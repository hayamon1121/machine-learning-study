{
 "cells": [
  {
   "cell_type": "code",
   "execution_count": 8,
   "id": "9db632ec-8054-4569-a0cc-f77ca7bab679",
   "metadata": {},
   "outputs": [
    {
     "name": "stdout",
     "output_type": "stream",
     "text": [
      "10,9,8,7,6,5,4,3,2,1,"
     ]
    }
   ],
   "source": [
    "for i in range(10):\n",
    "    print(\"{},\".format(10 - i) , end ='')\n"
   ]
  },
  {
   "cell_type": "code",
   "execution_count": 9,
   "id": "881c2430-769f-40c1-9cf3-5b9ee3fafef5",
   "metadata": {},
   "outputs": [
    {
     "name": "stdout",
     "output_type": "stream",
     "text": [
      "Lift Off!!\n"
     ]
    }
   ],
   "source": [
    "print(\"Lift Off!!\")"
   ]
  },
  {
   "cell_type": "code",
   "execution_count": null,
   "id": "3ff2ac1d-a777-4de1-b937-368b8c2db78b",
   "metadata": {},
   "outputs": [],
   "source": []
  }
 ],
 "metadata": {
  "kernelspec": {
   "display_name": "Python 3 (ipykernel)",
   "language": "python",
   "name": "python3"
  },
  "language_info": {
   "codemirror_mode": {
    "name": "ipython",
    "version": 3
   },
   "file_extension": ".py",
   "mimetype": "text/x-python",
   "name": "python",
   "nbconvert_exporter": "python",
   "pygments_lexer": "ipython3",
   "version": "3.12.7"
  }
 },
 "nbformat": 4,
 "nbformat_minor": 5
}
