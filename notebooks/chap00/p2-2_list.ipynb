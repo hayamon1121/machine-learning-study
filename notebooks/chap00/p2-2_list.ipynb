{
 "cells": [
  {
   "cell_type": "code",
   "execution_count": 61,
   "id": "8375d423-49b7-467e-89c8-d4205506aa1f",
   "metadata": {},
   "outputs": [],
   "source": [
    "scores = []"
   ]
  },
  {
   "cell_type": "code",
   "execution_count": 62,
   "id": "293a9206-be41-4a28-bbbe-f652b8255600",
   "metadata": {},
   "outputs": [
    {
     "name": "stdin",
     "output_type": "stream",
     "text": [
      "国語の点数＞＞ 50\n"
     ]
    }
   ],
   "source": [
    "japanese = int(input('国語の点数＞＞'))"
   ]
  },
  {
   "cell_type": "code",
   "execution_count": 63,
   "id": "754f3092-83cc-41f1-86a8-dabb5b117347",
   "metadata": {},
   "outputs": [],
   "source": [
    "scores.append(japanese)"
   ]
  },
  {
   "cell_type": "code",
   "execution_count": 64,
   "id": "f28049d0-207e-42af-a32d-28b797b31a2c",
   "metadata": {},
   "outputs": [
    {
     "name": "stdin",
     "output_type": "stream",
     "text": [
      "数学の点数＞＞ 100\n"
     ]
    }
   ],
   "source": [
    "math = int(input('数学の点数＞＞'))"
   ]
  },
  {
   "cell_type": "code",
   "execution_count": 65,
   "id": "f7a7efb0-51bc-4753-a2a3-1384594c7bec",
   "metadata": {},
   "outputs": [],
   "source": [
    "scores.append(math)"
   ]
  },
  {
   "cell_type": "code",
   "execution_count": 67,
   "id": "ed52c261-e57d-472d-87f7-21c9686dc1f3",
   "metadata": {},
   "outputs": [
    {
     "name": "stdin",
     "output_type": "stream",
     "text": [
      "英語の点数＞＞ 30\n"
     ]
    }
   ],
   "source": [
    "english = int(input('英語の点数＞＞'))"
   ]
  },
  {
   "cell_type": "code",
   "execution_count": 68,
   "id": "5075f321-8fe7-4cb8-b8be-b494dbc2b65c",
   "metadata": {},
   "outputs": [],
   "source": [
    "scores.append(english)"
   ]
  },
  {
   "cell_type": "code",
   "execution_count": 69,
   "id": "0de36cae-ec0b-469c-adb2-b616a066d4c2",
   "metadata": {},
   "outputs": [
    {
     "name": "stdout",
     "output_type": "stream",
     "text": [
      "[50, 100, 30]\n"
     ]
    }
   ],
   "source": [
    "print(scores)"
   ]
  },
  {
   "cell_type": "code",
   "execution_count": 70,
   "id": "d88a4faf-9609-47d5-a1bf-e07d7ccb3d03",
   "metadata": {},
   "outputs": [],
   "source": [
    "total = sum(scores)"
   ]
  },
  {
   "cell_type": "code",
   "execution_count": 71,
   "id": "27e1261f-617c-4ba2-a0c7-97c7e5008527",
   "metadata": {},
   "outputs": [
    {
     "name": "stdout",
     "output_type": "stream",
     "text": [
      "180\n"
     ]
    }
   ],
   "source": [
    "print(total)"
   ]
  },
  {
   "cell_type": "code",
   "execution_count": null,
   "id": "9c65f0e4-9f3c-42fa-9e6a-ee030147e5a6",
   "metadata": {},
   "outputs": [],
   "source": []
  }
 ],
 "metadata": {
  "kernelspec": {
   "display_name": "Python 3 (ipykernel)",
   "language": "python",
   "name": "python3"
  },
  "language_info": {
   "codemirror_mode": {
    "name": "ipython",
    "version": 3
   },
   "file_extension": ".py",
   "mimetype": "text/x-python",
   "name": "python",
   "nbconvert_exporter": "python",
   "pygments_lexer": "ipython3",
   "version": "3.12.7"
  }
 },
 "nbformat": 4,
 "nbformat_minor": 5
}
