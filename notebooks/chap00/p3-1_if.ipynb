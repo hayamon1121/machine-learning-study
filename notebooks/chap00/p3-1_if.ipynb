{
 "cells": [
  {
   "cell_type": "code",
   "execution_count": 1,
   "id": "324c94f8-1078-4953-bc4d-3f104f1b669b",
   "metadata": {},
   "outputs": [
    {
     "name": "stdin",
     "output_type": "stream",
     "text": [
      "整数を入力してください 15\n"
     ]
    }
   ],
   "source": [
    "n = int(input(\"整数を入力してください\"))"
   ]
  },
  {
   "cell_type": "code",
   "execution_count": 7,
   "id": "c0df9326-d210-4fdf-8e67-dcfa24f12954",
   "metadata": {},
   "outputs": [
    {
     "name": "stdout",
     "output_type": "stream",
     "text": [
      "15は奇数です\n"
     ]
    }
   ],
   "source": [
    "if(n % 2 == 0):\n",
    "   print(f\"{n}は偶数です\")\n",
    "else:\n",
    "    print(f\"{n}は奇数です\")"
   ]
  },
  {
   "cell_type": "code",
   "execution_count": 17,
   "id": "6b896e8e-1883-4c28-ade2-1baff543fa86",
   "metadata": {},
   "outputs": [
    {
     "name": "stdin",
     "output_type": "stream",
     "text": [
      "私は景気予測AIです あ\n"
     ]
    }
   ],
   "source": [
    "message = str(input(\"私は景気予測AIです\"))"
   ]
  },
  {
   "cell_type": "code",
   "execution_count": 18,
   "id": "66f7d223-4106-4287-accb-b0b9f953c0a7",
   "metadata": {},
   "outputs": [
    {
     "name": "stdout",
     "output_type": "stream",
     "text": [
      "どうしました？\n"
     ]
    }
   ],
   "source": [
    "if (message == \"こんにちは\"):\n",
    "    print(\"ようこそ！\")\n",
    "elif (message == \"さようなら\"):\n",
    "    print(\"お元気で！\")\n",
    "elif(message == \"今日の景気は？\"):\n",
    "    print(\"ぼちぼちです\")\n",
    "else:\n",
    "    print(\"どうしました？\")"
   ]
  },
  {
   "cell_type": "code",
   "execution_count": null,
   "id": "7899e0dc-7c6d-444f-878a-7f91907715a2",
   "metadata": {},
   "outputs": [],
   "source": []
  }
 ],
 "metadata": {
  "kernelspec": {
   "display_name": "Python 3 (ipykernel)",
   "language": "python",
   "name": "python3"
  },
  "language_info": {
   "codemirror_mode": {
    "name": "ipython",
    "version": 3
   },
   "file_extension": ".py",
   "mimetype": "text/x-python",
   "name": "python",
   "nbconvert_exporter": "python",
   "pygments_lexer": "ipython3",
   "version": "3.12.7"
  }
 },
 "nbformat": 4,
 "nbformat_minor": 5
}
