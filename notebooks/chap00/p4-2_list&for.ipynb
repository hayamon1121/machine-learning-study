{
 "cells": [
  {
   "cell_type": "code",
   "execution_count": 25,
   "id": "9f2a8134-c8a5-42dd-8e6c-469aca80d61f",
   "metadata": {},
   "outputs": [],
   "source": [
    "scores = []"
   ]
  },
  {
   "cell_type": "code",
   "execution_count": 26,
   "id": "deca7789-21d1-4cb8-b353-b38efdf0a3c9",
   "metadata": {},
   "outputs": [
    {
     "name": "stdin",
     "output_type": "stream",
     "text": [
      "点数を入力してください＞＞ 3\n",
      "点数を入力してください＞＞ 5\n",
      "点数を入力してください＞＞ 2\n",
      "点数を入力してください＞＞ 5\n",
      "点数を入力してください＞＞ 5\n",
      "点数を入力してください＞＞ 5\n",
      "点数を入力してください＞＞ 5\n",
      "点数を入力してください＞＞ 3\n",
      "点数を入力してください＞＞ 5\n",
      "点数を入力してください＞＞ 5\n"
     ]
    }
   ],
   "source": [
    "for i in range(10):\n",
    "    scores.append(int(input(\"点数を入力してください＞＞\")))"
   ]
  },
  {
   "cell_type": "code",
   "execution_count": 27,
   "id": "c94834ed-f7b4-40a1-9f59-45b9288ea296",
   "metadata": {},
   "outputs": [],
   "source": [
    "final_scores = []"
   ]
  },
  {
   "cell_type": "code",
   "execution_count": 34,
   "id": "6827d026-1f53-4b99-ae4b-4442cf1e03d1",
   "metadata": {},
   "outputs": [],
   "source": [
    "for score in scores:\n",
    "    final_scores.append(score * 0.8 + 20)"
   ]
  },
  {
   "cell_type": "code",
   "execution_count": 35,
   "id": "556a060b-65e5-42bd-9979-cabfd6253bb7",
   "metadata": {},
   "outputs": [],
   "source": [
    "avg = sum(final_scores) / len(final_scores)"
   ]
  },
  {
   "cell_type": "code",
   "execution_count": 36,
   "id": "6e63cb7b-eec5-45fc-80d1-80fae277bebf",
   "metadata": {},
   "outputs": [
    {
     "name": "stdout",
     "output_type": "stream",
     "text": [
      "23.44\n"
     ]
    }
   ],
   "source": [
    "print(avg)\n"
   ]
  },
  {
   "cell_type": "code",
   "execution_count": null,
   "id": "ad478016-96f5-42c9-aafa-b44f8017db41",
   "metadata": {},
   "outputs": [],
   "source": []
  }
 ],
 "metadata": {
  "kernelspec": {
   "display_name": "Python 3 (ipykernel)",
   "language": "python",
   "name": "python3"
  },
  "language_info": {
   "codemirror_mode": {
    "name": "ipython",
    "version": 3
   },
   "file_extension": ".py",
   "mimetype": "text/x-python",
   "name": "python",
   "nbconvert_exporter": "python",
   "pygments_lexer": "ipython3",
   "version": "3.12.7"
  }
 },
 "nbformat": 4,
 "nbformat_minor": 5
}
