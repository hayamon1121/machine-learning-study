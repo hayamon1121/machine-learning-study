{
 "cells": [
  {
   "cell_type": "markdown",
   "id": "0da6cfc5-8e25-4bfd-a253-7f4253fcbff0",
   "metadata": {},
   "source": [
    "2025-10-02\n",
    "\n",
    "# 学習内容\n",
    "### 書籍/教材: スッキリわかるPythonによる機械学習入門\n",
    "### 範囲: 第5章 分類１：アヤメの判別\n",
    "### 目的: より複雑な分類の機械学習を行う。決定木について学ぶ。\n",
    "\n",
    "\n",
    " -----------------------------\n",
    "## <内容まとめ>\n",
    "\n",
    "・uniqueメソッドで種類列の値を確認\n",
    "uniqueメソッドは重複を除いた値を返す。\n",
    "```python\n",
    "df['種類'].unique()\n",
    "```\n",
    "\n",
    "・array型の特定要素を参照\n",
    "```python\n",
    "syurui = df['種類'].unique()\n",
    "syurui[0]\n",
    "```\n",
    "\n",
    "・value_countsメソッドでデータの出現回数をカウント\n",
    "```python\n",
    "df['種類'].value_counts()\n",
    "```\n",
    "df.mean()\n",
    "・欠損値\n",
    "iris.csvの[75行目,がく辺幅]のように空欄で欠損している値を**欠損値**という。\n",
    "\n",
    "・isnullメソッドで欠損値の有無を調べる\n",
    "isnullメソッドはデータフレームの各セルを調べてNaNならTrueを返す。\n",
    "```python\n",
    "df.isnull()\n",
    "```\n",
    "\n",
    "・anyメソッドにより列単位で欠損値があるか確認\n",
    "anyメソッドは各列にたいして一つ以上の欠損値がある場合Trueを返す。\n",
    "```python\n",
    "df.isnull().any(axis=0)\n",
    "```\n",
    "\n",
    "・sumメソッドで各列の合計値を確認\n",
    "```python\n",
    "df.sum\n",
    "```\n",
    "\n",
    "・sumメソッドとisnullメソッドで各列の欠損値の数を調べる\n",
    "以下ではtmpにTrueとFalseだけで構成されたデータフレーム(df.isnull())をtmpに代入して、列ごとの欠損値の合計を求めている。\n",
    "```python\n",
    "tmp = df.isnull()\n",
    "tmp.sum()\n",
    "# 以下のように書くことも可能\n",
    "df.isnull().sum()\n",
    "```\n",
    "\n",
    "・dropnaメソッドで欠損値のある行/列を削除する\n",
    "dropnaメソッドは欠損値が削除されたデータフレームを返り値として返す。元のデータフレームには変更を加えない(dfは欠損値があるまま)。\n",
    "```python\n",
    "df2 = df.dropna(how = 'any', axis = 0)\n",
    "# axis = 1とすると欠損値がある列を削除\n",
    "# axis = 0とすると欠損値がある行を削除\n",
    "# how = 'all'とするとすべてが欠損値となっている行または列を削除\n",
    "# how = 'any'とするとどれか一つが欠損値となっている行または列を削除\n",
    "# axis = 0 の後に inplace = True を加えるとdf自体を変更する\n",
    "```\n",
    "\n",
    "・fillnaメソッドで欠損値を指定した値に置き換える\n",
    "fillnaメソッドは欠損値を指定した値で書き換えたデータフレームを新たに作成し、そのデータフレームを返り値として返す。\n",
    "```python\n",
    "df['花弁長さ'] = df['花弁長さ'].fillna(0)\n",
    "# .fillna(0)で花弁の長さの欠損値を0に置き換えている\n",
    "```\n",
    "\n",
    "・平均値の計算\n",
    "今回は欠損値を平均値で置き換える。\n",
    "```python\n",
    "#numeric_only引数をTrueにすることで、文字列の列(今回の場合は種類列)を除外して計算してくれる\n",
    "df.mean(numeric_only=True)\n",
    "```\n",
    "\n",
    "・特定の列だけ計算\n",
    "```python\n",
    "#花弁長さ列の平均値を計算する\n",
    "df['花弁長さ'].mean()\n",
    "```\n",
    "\n",
    "・基本統計量をもとめるメソッド一覧\n",
    "```\n",
    "平均値 - mean\n",
    "分散 - var\n",
    "標準偏差 - std\n",
    "中央値 - median\n",
    "合計 - sum \n",
    "最大値 - max\n",
    "最小値 - min\n",
    "最頻値 - mode\n",
    "```\n",
    "\n",
    "・決定木モデル\n",
    "決定木モデルは条件分岐をひたすら繰り返す手法。どのような条件にするかを機械学習を用いて設定する。そのとき、その条件分岐が良い分類か悪い分類かを判断する基準として、子ノード内の正解データの比率を示す**不純度**という数値的指標がある。\n",
    "すなわち、条件分岐として考えらえる様々な条件と、その分岐後の二つの子ノードの不純度の値をすべて計算（scikit learnでは時間削減のため一部計算）し、最も不純度が小さくなるような条件分岐を良い条件とみなす。\n",
    "\n",
    "・モデルの作成\n",
    "max_depthには決定木の深さの最大値を指定できる。木を深くするほど条件分岐の回数も増えるため、正解率が高くなる可能性が高くなる。しかし、視覚的な分かりやすさは失われる。\n",
    "random_stateは乱数のシードを指定する。これは乱数を使うときの基準となる値で、同じシードを指定すれば毎回同じ乱数が順に得られる。すなわち再現性を持たせることが出来る。(決定木モデルでは乱数を使用するため、毎回異なる学習結果になってしまう。)\n",
    "```python\n",
    "# 関数のインポート\n",
    "from sklearn import tree\n",
    "# モデルの作成\n",
    "model = tree.DecisionTreeClassifier(max_depth = 2,\n",
    "                                    random_state=0)\n",
    "```\n",
    "\n",
    "・ホールドアウト法\n",
    "モデルを評価したい場合、学習に使用したデータに対し正確な回答ができるのは当たり前。よって訓練データ（学習に使用したデータ）とは別にテストデータ（正解率の計算のみに使用するデータ）がほしい。よって教師データを訓練データとテストデータに分割する方法を**ホールドアウト法**という。scikit learnではtrain_test_split関数を使う。\n",
    "```python\n",
    "# 関数のインポート\n",
    "from sklearn.model_selection import train_test_split\n",
    "x_train, x_test, y_train, y_test = train_test_split(x, t,test_size = 0.3, random_state = 0)\n",
    "#x_train,y_trainが学習に利用する訓練データ\n",
    "#x_test,y_testが検証に利用するテストデータ\n",
    "```\n",
    "ここでtrain_test_split関数の引数のtest_sizeとrandom_stateを指定している。  \n",
    "test_sizeは全体のデータに対するテストデータの割合を0.0~1.0で指定する。\n",
    "random_stateでは乱数のシードを指定している。(再現性を持たせる)\n",
    "\n",
    "・分岐条件の列を決める\n",
    "列番号は0から順に振られる。分岐条件が-2となっている場合は、そのノードはそれ以上分岐しないことを示す。\n",
    "```python\n",
    "model.tree_.feature\n",
    "```\n",
    "\n",
    "・分岐条件のしきい値\n",
    "しきい値とは条件が分岐する境目の値。\n",
    "tree_.thresholdは分岐条件のしきい値を含む配列を返す。\n",
    "```python\n",
    "model.tree_.threshold\n",
    "```\n",
    "\n",
    "・末端ノード（リーフ）と種類の紐づけ\n",
    "```python\n",
    "# ノード番号1、3、4に到達したアヤメの種類ごとの数\n",
    "print(model.tree_.value[1]) # ノード番号1に到達したとき\n",
    "print(model.tree_.value[3]) # ノード番号3に到達したとき\n",
    "print(model.tree_.value[4]) # ノード番号4に到達したとき\n",
    "```\n",
    "```python\n",
    "model.classes_\n",
    "```\n",
    "\n",
    "分岐条件に対応する列、しきい値、リーフと種類の紐づけより、決定木のフローチャートを描くことができる。\n",
    "\n",
    " -----------------------------\n",
    "## まとめ\n",
    "\n",
    "\n",
    "\n",
    "--------------------------------------\n",
    "## 以下は実装例\n",
    "\n"
   ]
  },
  {
   "cell_type": "code",
   "execution_count": 4,
   "id": "8b2f5755-c965-40a6-90e4-289ae886b695",
   "metadata": {},
   "outputs": [],
   "source": [
    "import pandas as pd"
   ]
  },
  {
   "cell_type": "code",
   "execution_count": 5,
   "id": "f1d9fa4e-33fd-4316-b398-e441e9d531ce",
   "metadata": {},
   "outputs": [],
   "source": [
    "df = pd.read_csv('chap05/iris.csv')"
   ]
  },
  {
   "cell_type": "code",
   "execution_count": 6,
   "id": "a5ff2acb-13ac-4e49-906e-08e3884ff12e",
   "metadata": {},
   "outputs": [
    {
     "data": {
      "text/plain": [
       "array(['Iris-setosa', 'Iris-versicolor', 'Iris-virginica'], dtype=object)"
      ]
     },
     "execution_count": 6,
     "metadata": {},
     "output_type": "execute_result"
    }
   ],
   "source": [
    "#種類列の値を確認\n",
    "df['種類'].unique()"
   ]
  },
  {
   "cell_type": "code",
   "execution_count": 7,
   "id": "71f48848-1b12-4c8d-8932-f07036e85009",
   "metadata": {},
   "outputs": [
    {
     "data": {
      "text/plain": [
       "array(['Iris-setosa', 'Iris-versicolor'], dtype=object)"
      ]
     },
     "execution_count": 7,
     "metadata": {},
     "output_type": "execute_result"
    }
   ],
   "source": [
    "#array型の特定要素を参照\n",
    "syurui = df['種類'].unique()\n",
    "syurui[0:2]"
   ]
  },
  {
   "cell_type": "code",
   "execution_count": 8,
   "id": "46267017-f7ec-4c02-ac02-6fda78e952b6",
   "metadata": {},
   "outputs": [
    {
     "data": {
      "text/plain": [
       "種類\n",
       "Iris-setosa        50\n",
       "Iris-versicolor    50\n",
       "Iris-virginica     50\n",
       "Name: count, dtype: int64"
      ]
     },
     "execution_count": 8,
     "metadata": {},
     "output_type": "execute_result"
    }
   ],
   "source": [
    "#出現回数のカウント\n",
    "df['種類'].value_counts()"
   ]
  },
  {
   "cell_type": "code",
   "execution_count": 9,
   "id": "5b6f9e33-318b-43e7-a1b2-d667986bbbf9",
   "metadata": {},
   "outputs": [
    {
     "data": {
      "text/html": [
       "<div>\n",
       "<style scoped>\n",
       "    .dataframe tbody tr th:only-of-type {\n",
       "        vertical-align: middle;\n",
       "    }\n",
       "\n",
       "    .dataframe tbody tr th {\n",
       "        vertical-align: top;\n",
       "    }\n",
       "\n",
       "    .dataframe thead th {\n",
       "        text-align: right;\n",
       "    }\n",
       "</style>\n",
       "<table border=\"1\" class=\"dataframe\">\n",
       "  <thead>\n",
       "    <tr style=\"text-align: right;\">\n",
       "      <th></th>\n",
       "      <th>がく片長さ</th>\n",
       "      <th>がく片幅</th>\n",
       "      <th>花弁長さ</th>\n",
       "      <th>花弁幅</th>\n",
       "      <th>種類</th>\n",
       "    </tr>\n",
       "  </thead>\n",
       "  <tbody>\n",
       "    <tr>\n",
       "      <th>0</th>\n",
       "      <td>False</td>\n",
       "      <td>False</td>\n",
       "      <td>False</td>\n",
       "      <td>False</td>\n",
       "      <td>False</td>\n",
       "    </tr>\n",
       "    <tr>\n",
       "      <th>1</th>\n",
       "      <td>False</td>\n",
       "      <td>False</td>\n",
       "      <td>False</td>\n",
       "      <td>False</td>\n",
       "      <td>False</td>\n",
       "    </tr>\n",
       "    <tr>\n",
       "      <th>2</th>\n",
       "      <td>False</td>\n",
       "      <td>False</td>\n",
       "      <td>False</td>\n",
       "      <td>False</td>\n",
       "      <td>False</td>\n",
       "    </tr>\n",
       "    <tr>\n",
       "      <th>3</th>\n",
       "      <td>False</td>\n",
       "      <td>False</td>\n",
       "      <td>False</td>\n",
       "      <td>False</td>\n",
       "      <td>False</td>\n",
       "    </tr>\n",
       "    <tr>\n",
       "      <th>4</th>\n",
       "      <td>False</td>\n",
       "      <td>False</td>\n",
       "      <td>False</td>\n",
       "      <td>False</td>\n",
       "      <td>False</td>\n",
       "    </tr>\n",
       "    <tr>\n",
       "      <th>...</th>\n",
       "      <td>...</td>\n",
       "      <td>...</td>\n",
       "      <td>...</td>\n",
       "      <td>...</td>\n",
       "      <td>...</td>\n",
       "    </tr>\n",
       "    <tr>\n",
       "      <th>145</th>\n",
       "      <td>False</td>\n",
       "      <td>False</td>\n",
       "      <td>False</td>\n",
       "      <td>False</td>\n",
       "      <td>False</td>\n",
       "    </tr>\n",
       "    <tr>\n",
       "      <th>146</th>\n",
       "      <td>False</td>\n",
       "      <td>False</td>\n",
       "      <td>False</td>\n",
       "      <td>False</td>\n",
       "      <td>False</td>\n",
       "    </tr>\n",
       "    <tr>\n",
       "      <th>147</th>\n",
       "      <td>False</td>\n",
       "      <td>False</td>\n",
       "      <td>True</td>\n",
       "      <td>False</td>\n",
       "      <td>False</td>\n",
       "    </tr>\n",
       "    <tr>\n",
       "      <th>148</th>\n",
       "      <td>False</td>\n",
       "      <td>False</td>\n",
       "      <td>False</td>\n",
       "      <td>False</td>\n",
       "      <td>False</td>\n",
       "    </tr>\n",
       "    <tr>\n",
       "      <th>149</th>\n",
       "      <td>False</td>\n",
       "      <td>False</td>\n",
       "      <td>False</td>\n",
       "      <td>False</td>\n",
       "      <td>False</td>\n",
       "    </tr>\n",
       "  </tbody>\n",
       "</table>\n",
       "<p>150 rows × 5 columns</p>\n",
       "</div>"
      ],
      "text/plain": [
       "     がく片長さ   がく片幅   花弁長さ    花弁幅     種類\n",
       "0    False  False  False  False  False\n",
       "1    False  False  False  False  False\n",
       "2    False  False  False  False  False\n",
       "3    False  False  False  False  False\n",
       "4    False  False  False  False  False\n",
       "..     ...    ...    ...    ...    ...\n",
       "145  False  False  False  False  False\n",
       "146  False  False  False  False  False\n",
       "147  False  False   True  False  False\n",
       "148  False  False  False  False  False\n",
       "149  False  False  False  False  False\n",
       "\n",
       "[150 rows x 5 columns]"
      ]
     },
     "execution_count": 9,
     "metadata": {},
     "output_type": "execute_result"
    }
   ],
   "source": [
    "df.isnull()#各マスが欠損値かどうか調べる"
   ]
  },
  {
   "cell_type": "code",
   "execution_count": 10,
   "id": "25e33146-d99f-4830-a841-8f504f49b61f",
   "metadata": {},
   "outputs": [
    {
     "data": {
      "text/plain": [
       "がく片長さ     True\n",
       "がく片幅      True\n",
       "花弁長さ      True\n",
       "花弁幅       True\n",
       "種類       False\n",
       "dtype: bool"
      ]
     },
     "execution_count": 10,
     "metadata": {},
     "output_type": "execute_result"
    }
   ],
   "source": [
    "#各列に欠損値があるか確認\n",
    "df.isnull().any(axis=0)\n",
    "#以下の結果より、四つの列に一つ以上欠損値があるということが分かる"
   ]
  },
  {
   "cell_type": "code",
   "execution_count": 11,
   "id": "50e16b5e-72ea-49b9-a2b8-cec7f3e4fe14",
   "metadata": {},
   "outputs": [
    {
     "data": {
      "text/plain": [
       "がく片長さ                                                62.29\n",
       "がく片幅                                                 65.62\n",
       "花弁長さ                                                 72.04\n",
       "花弁幅                                                  66.22\n",
       "種類       Iris-setosaIris-setosaIris-setosaIris-setosaIr...\n",
       "dtype: object"
      ]
     },
     "execution_count": 11,
     "metadata": {},
     "output_type": "execute_result"
    }
   ],
   "source": [
    "# 各列の合計を確認\n",
    "df.sum()"
   ]
  },
  {
   "cell_type": "code",
   "execution_count": 12,
   "id": "36152431-1f11-4b65-ad85-3cbaa75906fa",
   "metadata": {},
   "outputs": [
    {
     "data": {
      "text/plain": [
       "がく片長さ    2\n",
       "がく片幅     1\n",
       "花弁長さ     2\n",
       "花弁幅      2\n",
       "種類       0\n",
       "dtype: int64"
      ]
     },
     "execution_count": 12,
     "metadata": {},
     "output_type": "execute_result"
    }
   ],
   "source": [
    "# 各列の欠損値の数を調べる\n",
    "tmp = df.isnull()\n",
    "tmp.sum()"
   ]
  },
  {
   "cell_type": "code",
   "execution_count": 13,
   "id": "ea14013c-9bfd-48d0-b486-f100fd220fb7",
   "metadata": {},
   "outputs": [
    {
     "data": {
      "text/html": [
       "<div>\n",
       "<style scoped>\n",
       "    .dataframe tbody tr th:only-of-type {\n",
       "        vertical-align: middle;\n",
       "    }\n",
       "\n",
       "    .dataframe tbody tr th {\n",
       "        vertical-align: top;\n",
       "    }\n",
       "\n",
       "    .dataframe thead th {\n",
       "        text-align: right;\n",
       "    }\n",
       "</style>\n",
       "<table border=\"1\" class=\"dataframe\">\n",
       "  <thead>\n",
       "    <tr style=\"text-align: right;\">\n",
       "      <th></th>\n",
       "      <th>がく片長さ</th>\n",
       "      <th>がく片幅</th>\n",
       "      <th>花弁長さ</th>\n",
       "      <th>花弁幅</th>\n",
       "      <th>種類</th>\n",
       "    </tr>\n",
       "  </thead>\n",
       "  <tbody>\n",
       "    <tr>\n",
       "      <th>146</th>\n",
       "      <td>0.56</td>\n",
       "      <td>0.21</td>\n",
       "      <td>0.69</td>\n",
       "      <td>0.46</td>\n",
       "      <td>Iris-virginica</td>\n",
       "    </tr>\n",
       "    <tr>\n",
       "      <th>148</th>\n",
       "      <td>0.53</td>\n",
       "      <td>0.58</td>\n",
       "      <td>0.63</td>\n",
       "      <td>0.92</td>\n",
       "      <td>Iris-virginica</td>\n",
       "    </tr>\n",
       "    <tr>\n",
       "      <th>149</th>\n",
       "      <td>0.44</td>\n",
       "      <td>0.42</td>\n",
       "      <td>0.41</td>\n",
       "      <td>0.71</td>\n",
       "      <td>Iris-virginica</td>\n",
       "    </tr>\n",
       "  </tbody>\n",
       "</table>\n",
       "</div>"
      ],
      "text/plain": [
       "     がく片長さ  がく片幅  花弁長さ   花弁幅              種類\n",
       "146   0.56  0.21  0.69  0.46  Iris-virginica\n",
       "148   0.53  0.58  0.63  0.92  Iris-virginica\n",
       "149   0.44  0.42  0.41  0.71  Iris-virginica"
      ]
     },
     "execution_count": 13,
     "metadata": {},
     "output_type": "execute_result"
    }
   ],
   "source": [
    "# 欠損値が1つでもある行を削除した結果を、df2に代入\n",
    "df2 = df.dropna(how = 'any', axis = 0)\n",
    "\n",
    "df2.tail(3) # 欠損値の存在確認\n",
    "#以下の結果を見れば欠損値のあった147行目が削除されていることがわかる"
   ]
  },
  {
   "cell_type": "code",
   "execution_count": 14,
   "id": "5f95c069-d476-4d73-ba95-577d888bcbd4",
   "metadata": {},
   "outputs": [
    {
     "data": {
      "text/html": [
       "<div>\n",
       "<style scoped>\n",
       "    .dataframe tbody tr th:only-of-type {\n",
       "        vertical-align: middle;\n",
       "    }\n",
       "\n",
       "    .dataframe tbody tr th {\n",
       "        vertical-align: top;\n",
       "    }\n",
       "\n",
       "    .dataframe thead th {\n",
       "        text-align: right;\n",
       "    }\n",
       "</style>\n",
       "<table border=\"1\" class=\"dataframe\">\n",
       "  <thead>\n",
       "    <tr style=\"text-align: right;\">\n",
       "      <th></th>\n",
       "      <th>がく片長さ</th>\n",
       "      <th>がく片幅</th>\n",
       "      <th>花弁長さ</th>\n",
       "      <th>花弁幅</th>\n",
       "      <th>種類</th>\n",
       "    </tr>\n",
       "  </thead>\n",
       "  <tbody>\n",
       "    <tr>\n",
       "      <th>147</th>\n",
       "      <td>0.61</td>\n",
       "      <td>0.42</td>\n",
       "      <td>0.00</td>\n",
       "      <td>0.79</td>\n",
       "      <td>Iris-virginica</td>\n",
       "    </tr>\n",
       "    <tr>\n",
       "      <th>148</th>\n",
       "      <td>0.53</td>\n",
       "      <td>0.58</td>\n",
       "      <td>0.63</td>\n",
       "      <td>0.92</td>\n",
       "      <td>Iris-virginica</td>\n",
       "    </tr>\n",
       "    <tr>\n",
       "      <th>149</th>\n",
       "      <td>0.44</td>\n",
       "      <td>0.42</td>\n",
       "      <td>0.41</td>\n",
       "      <td>0.71</td>\n",
       "      <td>Iris-virginica</td>\n",
       "    </tr>\n",
       "  </tbody>\n",
       "</table>\n",
       "</div>"
      ],
      "text/plain": [
       "     がく片長さ  がく片幅  花弁長さ   花弁幅              種類\n",
       "147   0.61  0.42  0.00  0.79  Iris-virginica\n",
       "148   0.53  0.58  0.63  0.92  Iris-virginica\n",
       "149   0.44  0.42  0.41  0.71  Iris-virginica"
      ]
     },
     "execution_count": 14,
     "metadata": {},
     "output_type": "execute_result"
    }
   ],
   "source": [
    "# 花弁の長さの欠損値を0に置き換える\n",
    "df['花弁長さ'] = df['花弁長さ'].fillna(0)\n",
    "df.tail(3)\n",
    "# 下の結果より147行目の花弁の長さが0に置き換えられていることがわかる"
   ]
  },
  {
   "cell_type": "code",
   "execution_count": 15,
   "id": "64f8bc4c-1bbb-4378-9326-73e5a6e0cff9",
   "metadata": {},
   "outputs": [
    {
     "data": {
      "text/plain": [
       "がく片長さ    0.420878\n",
       "がく片幅     0.440403\n",
       "花弁長さ     0.480267\n",
       "花弁幅      0.447432\n",
       "dtype: float64"
      ]
     },
     "execution_count": 15,
     "metadata": {},
     "output_type": "execute_result"
    }
   ],
   "source": [
    "#各行の平均値をもとめる。\n",
    "df.mean(numeric_only=True)"
   ]
  },
  {
   "cell_type": "code",
   "execution_count": 16,
   "id": "2bb3438a-058a-44b7-949e-35ab50ddbeb3",
   "metadata": {},
   "outputs": [
    {
     "data": {
      "text/plain": [
       "0.42087837837837844"
      ]
     },
     "execution_count": 16,
     "metadata": {},
     "output_type": "execute_result"
    }
   ],
   "source": [
    "#がく片長さ列の平均値を計算\n",
    "df['がく片長さ'].mean()"
   ]
  },
  {
   "cell_type": "code",
   "execution_count": 17,
   "id": "16d70c48-b913-4028-a040-3f8ecdcbc432",
   "metadata": {},
   "outputs": [
    {
     "data": {
      "text/plain": [
       "がく片長さ    False\n",
       "がく片幅     False\n",
       "花弁長さ     False\n",
       "花弁幅      False\n",
       "種類       False\n",
       "dtype: bool"
      ]
     },
     "execution_count": 17,
     "metadata": {},
     "output_type": "execute_result"
    }
   ],
   "source": [
    "df = pd.read_csv('chap05/iris.csv')\n",
    "\n",
    "# 各列の平均値を計算して、colmeanに代入\n",
    "colmean = df.mean(numeric_only=True)\n",
    "\n",
    "# 平均値で欠損値を穴埋めしてdf2に代入\n",
    "df2 = df.fillna(colmean)\n",
    "# 欠損値があるか確認\n",
    "df2.isnull().any(axis = 0)"
   ]
  },
  {
   "cell_type": "code",
   "execution_count": 22,
   "id": "63c1a9b2-8dff-41f6-94c2-28fcee797504",
   "metadata": {},
   "outputs": [],
   "source": [
    "xcol = ['がく片長さ','がく片幅', '花弁長さ', '花弁幅']\n",
    "x= df2[xcol]\n",
    "t = df2['種類']"
   ]
  },
  {
   "cell_type": "code",
   "execution_count": 23,
   "id": "05655eef-22fb-4b20-9915-c2a3f61dde3b",
   "metadata": {},
   "outputs": [],
   "source": [
    "# 関数のインポート\n",
    "from sklearn import tree\n",
    "# モデルの作成\n",
    "model = tree.DecisionTreeClassifier(max_depth = 2,\n",
    "                                    random_state=0)"
   ]
  },
  {
   "cell_type": "code",
   "execution_count": 25,
   "id": "acdb6977-7d13-4735-9061-473b0f6d7c50",
   "metadata": {},
   "outputs": [],
   "source": [
    "# ホールドアウト法で訓練データとテストデータに分割\n",
    "from sklearn.model_selection import train_test_split\n",
    "x_train, x_test, y_train, y_test = train_test_split(x, t,test_size = 0.3, random_state = 0)\n",
    "# test_size = 0.3なので全体のデータの３割がテストデータとして使用される。"
   ]
  },
  {
   "cell_type": "code",
   "execution_count": 26,
   "id": "c7c85af7-c8ab-4375-9c3c-0574fab519dc",
   "metadata": {},
   "outputs": [
    {
     "data": {
      "text/plain": [
       "0.9555555555555556"
      ]
     },
     "execution_count": 26,
     "metadata": {},
     "output_type": "execute_result"
    }
   ],
   "source": [
    "# 訓練データで再学習\n",
    "model.fit(x_train, y_train)\n",
    "\n",
    "# テストデータの予測結果と実際の答えが合致する正解率を計算\n",
    "model.score(x_test, y_test)"
   ]
  },
  {
   "cell_type": "code",
   "execution_count": 27,
   "id": "ce67cdc6-156a-487a-9134-d97c5007f67a",
   "metadata": {},
   "outputs": [],
   "source": [
    "import pickle\n",
    "with open('chap05/irismodel.pkl', 'wb') as f:\n",
    "    pickle.dump(model, f)"
   ]
  },
  {
   "cell_type": "code",
   "execution_count": null,
   "id": "286ada47-dd7f-468f-aaf5-f64b814a8440",
   "metadata": {},
   "outputs": [],
   "source": []
  }
 ],
 "metadata": {
  "kernelspec": {
   "display_name": "Python 3 (ipykernel)",
   "language": "python",
   "name": "python3"
  },
  "language_info": {
   "codemirror_mode": {
    "name": "ipython",
    "version": 3
   },
   "file_extension": ".py",
   "mimetype": "text/x-python",
   "name": "python",
   "nbconvert_exporter": "python",
   "pygments_lexer": "ipython3",
   "version": "3.12.7"
  }
 },
 "nbformat": 4,
 "nbformat_minor": 5
}
