{
 "cells": [
  {
   "cell_type": "markdown",
   "id": "984cb5d9-7f37-4e53-a22c-9f34bc1255f7",
   "metadata": {},
   "source": [
    "2025-10-01\n",
    "\n",
    "# 学習内容\n",
    "### 書籍/教材: スッキリわかるPythonによる機械学習入門\n",
    "### 範囲: 第3章 機械学習によるデータ分析の流れ\n",
    "### 目的: 機械学習によるデータ分析の全体像と具体的な手順を理解する\n",
    "\n",
    "\n",
    " -----------------------------\n",
    "## <内容まとめ>\n",
    "\n",
    "機械学習は本来解決したい問題の解決手段の一つにすぎない。\n",
    "\n",
    "目的の設定→データの収集→データの前処理→学習モデルの選択・作成→機械学習の実施→モデルの評価ー>完成orデータの前処理に戻る\n",
    "\n",
    "pandasというPythonライブラリを使うとデータの前処理を手軽に行える。\n",
    "\n",
    "scikit-learn(サイキット・ラーン)というPythonライブラリを使うと手軽にモデルの学習や作成が行える。\n",
    "\n",
    " -----------------------------\n",
    "## まとめ\n",
    "\n",
    "・機械学習は手段の一つにすぎない。\n",
    "\n",
    "・データ分析の全体像を把握することができた。　　\n",
    "\n",
    "・データ分析における便利なPythonライブラリを学んだ。　　\n",
    "\n"
   ]
  },
  {
   "cell_type": "code",
   "execution_count": null,
   "id": "1e551aff-4cb2-43e4-9e56-8895b42927fc",
   "metadata": {},
   "outputs": [],
   "source": []
  },
  {
   "cell_type": "code",
   "execution_count": null,
   "id": "1816038c-b56a-4eab-a76f-5b8eac5ccf76",
   "metadata": {},
   "outputs": [],
   "source": []
  }
 ],
 "metadata": {
  "kernelspec": {
   "display_name": "Python 3 (ipykernel)",
   "language": "python",
   "name": "python3"
  },
  "language_info": {
   "codemirror_mode": {
    "name": "ipython",
    "version": 3
   },
   "file_extension": ".py",
   "mimetype": "text/x-python",
   "name": "python",
   "nbconvert_exporter": "python",
   "pygments_lexer": "ipython3",
   "version": "3.12.7"
  }
 },
 "nbformat": 4,
 "nbformat_minor": 5
}
