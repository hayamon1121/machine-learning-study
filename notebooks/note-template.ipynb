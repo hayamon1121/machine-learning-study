{
 "cells": [
  {
   "cell_type": "code",
   "execution_count": null,
   "id": "892ed5ea-87b7-47c1-aeb9-ba5a36ef21e5",
   "metadata": {},
   "outputs": [],
   "source": [
    "# =============================\n",
    "# 学習ノート（章・テーマ）\n",
    "# =============================\n",
    "\n",
    "# 日付\n",
    "# 2025-09-29\n",
    "\n",
    "# 学習内容\n",
    "# - 書籍/教材: スッキリわかるPythonによる機械学習入門\n",
    "# - 範囲: 第1章 線形回帰\n",
    "# - 目的: 線形回帰の仕組みを理解する\n",
    "\n",
    "\n",
    "# -----------------------------\n",
    "# ライブラリのインポート\n",
    "# -----------------------------\n",
    "import numpy as np\n",
    "import pandas as pd\n",
    "import matplotlib.pyplot as plt\n",
    "from sklearn.linear_model import LinearRegression\n",
    "\n",
    "\n",
    "# -----------------------------\n",
    "# データの準備\n",
    "# -----------------------------\n",
    "# 仮のサンプルデータ\n",
    "X = np.array([[1], [2], [3], [4], [5]])\n",
    "y = np.array([1.2, 2.4, 2.8, 4.2, 5.1])\n",
    "\n",
    "\n",
    "# -----------------------------\n",
    "# モデルの学習\n",
    "# -----------------------------\n",
    "model = LinearRegression()\n",
    "model.fit(X, y)\n",
    "\n",
    "print(\"傾き:\", model.coef_[0])\n",
    "print(\"切片:\", model.intercept_)\n",
    "\n",
    "\n",
    "# -----------------------------\n",
    "# 可視化\n",
    "# -----------------------------\n",
    "plt.scatter(X, y, color=\"blue\", label=\"データ\")\n",
    "plt.plot(X, model.predict(X), color=\"red\", label=\"回帰直線\")\n",
    "plt.legend()\n",
    "plt.show()\n",
    "\n",
    "\n",
    "# -----------------------------\n",
    "# まとめ\n",
    "# -----------------------------\n",
    "# - 線形回帰は X と y の関係を直線で表す\n",
    "# - 傾きと切片を学習する\n",
    "# - 今回の結果では おおむね正しい直線を引けた"
   ]
  }
 ],
 "metadata": {
  "kernelspec": {
   "display_name": "Python 3 (ipykernel)",
   "language": "python",
   "name": "python3"
  },
  "language_info": {
   "codemirror_mode": {
    "name": "ipython",
    "version": 3
   },
   "file_extension": ".py",
   "mimetype": "text/x-python",
   "name": "python",
   "nbconvert_exporter": "python",
   "pygments_lexer": "ipython3",
   "version": "3.12.7"
  }
 },
 "nbformat": 4,
 "nbformat_minor": 5
}
