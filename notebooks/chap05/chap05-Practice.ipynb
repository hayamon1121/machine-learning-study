{
 "cells": [
  {
   "cell_type": "markdown",
   "id": "d7d0cc68-a8ee-48e2-8e51-b0a060b95d0c",
   "metadata": {},
   "source": [
    "### 練習５-１"
   ]
  },
  {
   "cell_type": "code",
   "execution_count": 1,
   "id": "022da677-e507-40df-bfa9-9a9de5fccc0b",
   "metadata": {},
   "outputs": [],
   "source": [
    "import pandas as pd"
   ]
  },
  {
   "cell_type": "code",
   "execution_count": 2,
   "id": "e9df8b0c-8126-49d2-9bd4-9e3b67d403f9",
   "metadata": {},
   "outputs": [],
   "source": [
    "df = pd.read_csv('ex2.csv')"
   ]
  },
  {
   "cell_type": "code",
   "execution_count": null,
   "id": "30ddbc4f-5ded-4e74-b431-397a8ed339fd",
   "metadata": {},
   "outputs": [],
   "source": []
  }
 ],
 "metadata": {
  "kernelspec": {
   "display_name": "Python 3 (ipykernel)",
   "language": "python",
   "name": "python3"
  },
  "language_info": {
   "codemirror_mode": {
    "name": "ipython",
    "version": 3
   },
   "file_extension": ".py",
   "mimetype": "text/x-python",
   "name": "python",
   "nbconvert_exporter": "python",
   "pygments_lexer": "ipython3",
   "version": "3.12.7"
  }
 },
 "nbformat": 4,
 "nbformat_minor": 5
}
