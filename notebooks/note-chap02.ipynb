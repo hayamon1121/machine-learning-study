{
 "cells": [
  {
   "cell_type": "markdown",
   "id": "b45d83b9-bcf7-4430-9003-b7020fe04fb2",
   "metadata": {},
   "source": [
    "2025-09-30\n",
    "\n",
    "# 学習内容\n",
    "### 書籍/教材: スッキリわかるPythonによる機械学習入門\n",
    "### 範囲: 第1章 機械学習に必要な基礎統計学\n",
    "### 目的: データ分析を行うための統計学の基礎知識を身に着ける。\n",
    "\n",
    "## <内容まとめ>\n",
    "\n",
    "・構造化データ ー 数値、日付、文字列など表で管理することが出来るデータ  \n",
    "・非構造化データ ー　画像、文書、映像など表で管理することが出来ないデータ  \n",
    "\n",
    "・量的データ ー 数値データ  \n",
    "・質的データ ー 文字列のデータや「0,1,2」のように範囲の狭い整数  \n",
    "\n",
    "・基本統計量 ー 与えられたデータ集合から算出することができる数値指標。中央値、平均値など。  \n",
    "・分散 ー 偏差の二乗の平均  \n",
    "・偏差 ー 各データの値 - 平均値  \n",
    "・標準偏差 ー 分散の平方根  \n",
    "・相関係数　ー　以下の三つの特徴がある  \n",
    " 　１．-1<=相関係数<=+1  \n",
    " 　２．正の相関が強いほど+1に近づく  \n",
    " 　３．負の相関が強いほど-1に近づく  \n",
    "\n",
    "・階級 ー ヒストグラムの区間\n",
    "\n",
    "# -----------------------------\n",
    "# まとめ\n",
    "# -----------------------------\n",
    "・データは構造化データ/非構造化データ、量的データ/質的データと分類することができる。  \n",
    "・基本統計量について復習した。  \n",
    "・ヒストグラム、箱ひげ図についておさらいした。  \n"
   ]
  },
  {
   "cell_type": "code",
   "execution_count": null,
   "id": "8b295158-d93b-4902-9da0-b347861cac18",
   "metadata": {},
   "outputs": [],
   "source": []
  },
  {
   "cell_type": "code",
   "execution_count": null,
   "id": "564d5f00-84aa-47fa-a489-a8bdff47d617",
   "metadata": {},
   "outputs": [],
   "source": []
  }
 ],
 "metadata": {
  "kernelspec": {
   "display_name": "Python 3 (ipykernel)",
   "language": "python",
   "name": "python3"
  },
  "language_info": {
   "codemirror_mode": {
    "name": "ipython",
    "version": 3
   },
   "file_extension": ".py",
   "mimetype": "text/x-python",
   "name": "python",
   "nbconvert_exporter": "python",
   "pygments_lexer": "ipython3",
   "version": "3.12.7"
  }
 },
 "nbformat": 4,
 "nbformat_minor": 5
}
