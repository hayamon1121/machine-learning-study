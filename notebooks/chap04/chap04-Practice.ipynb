{
 "cells": [
  {
   "cell_type": "markdown",
   "id": "1561ec0f-8318-44bd-b26f-04e7610d1e70",
   "metadata": {},
   "source": [
    "### 練習4-1"
   ]
  },
  {
   "cell_type": "code",
   "execution_count": 31,
   "id": "9f81e1cb-4444-48de-a948-b36ec838563a",
   "metadata": {},
   "outputs": [],
   "source": [
    "import pandas as pd"
   ]
  },
  {
   "cell_type": "code",
   "execution_count": 32,
   "id": "d5421bb3-e05d-4c3e-9bce-2d4c33972663",
   "metadata": {},
   "outputs": [],
   "source": [
    "data = {'データベースの試験得点':[70,72,75,80],'ネットワークの試験得点':[80,85,79,92]}"
   ]
  },
  {
   "cell_type": "code",
   "execution_count": 33,
   "id": "fb37ca86-8534-4095-9db1-74c1e12185da",
   "metadata": {},
   "outputs": [],
   "source": [
    "df = pd.DataFrame(data)"
   ]
  },
  {
   "cell_type": "code",
   "execution_count": 34,
   "id": "afba39f9-a8fb-4ee3-a784-fabd7bde2dc6",
   "metadata": {},
   "outputs": [
    {
     "data": {
      "text/html": [
       "<div>\n",
       "<style scoped>\n",
       "    .dataframe tbody tr th:only-of-type {\n",
       "        vertical-align: middle;\n",
       "    }\n",
       "\n",
       "    .dataframe tbody tr th {\n",
       "        vertical-align: top;\n",
       "    }\n",
       "\n",
       "    .dataframe thead th {\n",
       "        text-align: right;\n",
       "    }\n",
       "</style>\n",
       "<table border=\"1\" class=\"dataframe\">\n",
       "  <thead>\n",
       "    <tr style=\"text-align: right;\">\n",
       "      <th></th>\n",
       "      <th>データベースの試験得点</th>\n",
       "      <th>ネットワークの試験得点</th>\n",
       "    </tr>\n",
       "  </thead>\n",
       "  <tbody>\n",
       "    <tr>\n",
       "      <th>0</th>\n",
       "      <td>70</td>\n",
       "      <td>80</td>\n",
       "    </tr>\n",
       "    <tr>\n",
       "      <th>1</th>\n",
       "      <td>72</td>\n",
       "      <td>85</td>\n",
       "    </tr>\n",
       "    <tr>\n",
       "      <th>2</th>\n",
       "      <td>75</td>\n",
       "      <td>79</td>\n",
       "    </tr>\n",
       "    <tr>\n",
       "      <th>3</th>\n",
       "      <td>80</td>\n",
       "      <td>92</td>\n",
       "    </tr>\n",
       "  </tbody>\n",
       "</table>\n",
       "</div>"
      ],
      "text/plain": [
       "   データベースの試験得点  ネットワークの試験得点\n",
       "0           70           80\n",
       "1           72           85\n",
       "2           75           79\n",
       "3           80           92"
      ]
     },
     "execution_count": 34,
     "metadata": {},
     "output_type": "execute_result"
    }
   ],
   "source": [
    "df"
   ]
  },
  {
   "cell_type": "markdown",
   "id": "0d2ac476-c1dd-4125-96b9-d82202cbf6da",
   "metadata": {},
   "source": [
    "### 練習4-2"
   ]
  },
  {
   "cell_type": "code",
   "execution_count": 35,
   "id": "47c77c48-fc21-4e1e-8559-8a602e98e056",
   "metadata": {},
   "outputs": [],
   "source": [
    "df.index = ['一郎','次郎','三郎','太郎']"
   ]
  },
  {
   "cell_type": "code",
   "execution_count": 36,
   "id": "0298427a-f91d-47d2-86c1-d88a5d816582",
   "metadata": {},
   "outputs": [
    {
     "data": {
      "text/html": [
       "<div>\n",
       "<style scoped>\n",
       "    .dataframe tbody tr th:only-of-type {\n",
       "        vertical-align: middle;\n",
       "    }\n",
       "\n",
       "    .dataframe tbody tr th {\n",
       "        vertical-align: top;\n",
       "    }\n",
       "\n",
       "    .dataframe thead th {\n",
       "        text-align: right;\n",
       "    }\n",
       "</style>\n",
       "<table border=\"1\" class=\"dataframe\">\n",
       "  <thead>\n",
       "    <tr style=\"text-align: right;\">\n",
       "      <th></th>\n",
       "      <th>データベースの試験得点</th>\n",
       "      <th>ネットワークの試験得点</th>\n",
       "    </tr>\n",
       "  </thead>\n",
       "  <tbody>\n",
       "    <tr>\n",
       "      <th>一郎</th>\n",
       "      <td>70</td>\n",
       "      <td>80</td>\n",
       "    </tr>\n",
       "    <tr>\n",
       "      <th>次郎</th>\n",
       "      <td>72</td>\n",
       "      <td>85</td>\n",
       "    </tr>\n",
       "    <tr>\n",
       "      <th>三郎</th>\n",
       "      <td>75</td>\n",
       "      <td>79</td>\n",
       "    </tr>\n",
       "    <tr>\n",
       "      <th>太郎</th>\n",
       "      <td>80</td>\n",
       "      <td>92</td>\n",
       "    </tr>\n",
       "  </tbody>\n",
       "</table>\n",
       "</div>"
      ],
      "text/plain": [
       "    データベースの試験得点  ネットワークの試験得点\n",
       "一郎           70           80\n",
       "次郎           72           85\n",
       "三郎           75           79\n",
       "太郎           80           92"
      ]
     },
     "execution_count": 36,
     "metadata": {},
     "output_type": "execute_result"
    }
   ],
   "source": [
    "df"
   ]
  },
  {
   "cell_type": "markdown",
   "id": "e0660f98-883a-455a-b5a5-34d51da4ee2b",
   "metadata": {},
   "source": [
    "### 練習4-3"
   ]
  },
  {
   "cell_type": "code",
   "execution_count": 37,
   "id": "ff7f3f0c-107b-4462-a7f0-600d2f44eaff",
   "metadata": {},
   "outputs": [],
   "source": [
    "df2 = pd.read_csv('ex1.csv')"
   ]
  },
  {
   "cell_type": "code",
   "execution_count": 38,
   "id": "bc389188-f76d-4cb8-a60d-478943345407",
   "metadata": {},
   "outputs": [
    {
     "data": {
      "text/html": [
       "<div>\n",
       "<style scoped>\n",
       "    .dataframe tbody tr th:only-of-type {\n",
       "        vertical-align: middle;\n",
       "    }\n",
       "\n",
       "    .dataframe tbody tr th {\n",
       "        vertical-align: top;\n",
       "    }\n",
       "\n",
       "    .dataframe thead th {\n",
       "        text-align: right;\n",
       "    }\n",
       "</style>\n",
       "<table border=\"1\" class=\"dataframe\">\n",
       "  <thead>\n",
       "    <tr style=\"text-align: right;\">\n",
       "      <th></th>\n",
       "      <th>x0</th>\n",
       "      <th>x1</th>\n",
       "      <th>x2</th>\n",
       "      <th>x3</th>\n",
       "      <th>target</th>\n",
       "    </tr>\n",
       "  </thead>\n",
       "  <tbody>\n",
       "    <tr>\n",
       "      <th>0</th>\n",
       "      <td>4.831144</td>\n",
       "      <td>4.695477</td>\n",
       "      <td>5.082239</td>\n",
       "      <td>4.501977</td>\n",
       "      <td>0</td>\n",
       "    </tr>\n",
       "    <tr>\n",
       "      <th>1</th>\n",
       "      <td>1.460716</td>\n",
       "      <td>1.216714</td>\n",
       "      <td>7.632439</td>\n",
       "      <td>2.359443</td>\n",
       "      <td>0</td>\n",
       "    </tr>\n",
       "    <tr>\n",
       "      <th>2</th>\n",
       "      <td>4.011018</td>\n",
       "      <td>4.515939</td>\n",
       "      <td>5.935904</td>\n",
       "      <td>5.981296</td>\n",
       "      <td>1</td>\n",
       "    </tr>\n",
       "    <tr>\n",
       "      <th>3</th>\n",
       "      <td>5.982382</td>\n",
       "      <td>4.965863</td>\n",
       "      <td>3.890340</td>\n",
       "      <td>2.480491</td>\n",
       "      <td>0</td>\n",
       "    </tr>\n",
       "    <tr>\n",
       "      <th>4</th>\n",
       "      <td>5.439188</td>\n",
       "      <td>5.911560</td>\n",
       "      <td>4.827872</td>\n",
       "      <td>6.653825</td>\n",
       "      <td>1</td>\n",
       "    </tr>\n",
       "    <tr>\n",
       "      <th>...</th>\n",
       "      <td>...</td>\n",
       "      <td>...</td>\n",
       "      <td>...</td>\n",
       "      <td>...</td>\n",
       "      <td>...</td>\n",
       "    </tr>\n",
       "    <tr>\n",
       "      <th>95</th>\n",
       "      <td>4.343917</td>\n",
       "      <td>5.549315</td>\n",
       "      <td>5.925124</td>\n",
       "      <td>8.262054</td>\n",
       "      <td>1</td>\n",
       "    </tr>\n",
       "    <tr>\n",
       "      <th>96</th>\n",
       "      <td>5.612101</td>\n",
       "      <td>5.065338</td>\n",
       "      <td>4.338867</td>\n",
       "      <td>3.689948</td>\n",
       "      <td>0</td>\n",
       "    </tr>\n",
       "    <tr>\n",
       "      <th>97</th>\n",
       "      <td>3.375022</td>\n",
       "      <td>4.196423</td>\n",
       "      <td>6.534891</td>\n",
       "      <td>6.587676</td>\n",
       "      <td>1</td>\n",
       "    </tr>\n",
       "    <tr>\n",
       "      <th>98</th>\n",
       "      <td>4.069721</td>\n",
       "      <td>4.556587</td>\n",
       "      <td>5.884516</td>\n",
       "      <td>5.958792</td>\n",
       "      <td>1</td>\n",
       "    </tr>\n",
       "    <tr>\n",
       "      <th>99</th>\n",
       "      <td>4.079704</td>\n",
       "      <td>3.939691</td>\n",
       "      <td>5.657731</td>\n",
       "      <td>4.083713</td>\n",
       "      <td>0</td>\n",
       "    </tr>\n",
       "  </tbody>\n",
       "</table>\n",
       "<p>100 rows × 5 columns</p>\n",
       "</div>"
      ],
      "text/plain": [
       "          x0        x1        x2        x3  target\n",
       "0   4.831144  4.695477  5.082239  4.501977       0\n",
       "1   1.460716  1.216714  7.632439  2.359443       0\n",
       "2   4.011018  4.515939  5.935904  5.981296       1\n",
       "3   5.982382  4.965863  3.890340  2.480491       0\n",
       "4   5.439188  5.911560  4.827872  6.653825       1\n",
       "..       ...       ...       ...       ...     ...\n",
       "95  4.343917  5.549315  5.925124  8.262054       1\n",
       "96  5.612101  5.065338  4.338867  3.689948       0\n",
       "97  3.375022  4.196423  6.534891  6.587676       1\n",
       "98  4.069721  4.556587  5.884516  5.958792       1\n",
       "99  4.079704  3.939691  5.657731  4.083713       0\n",
       "\n",
       "[100 rows x 5 columns]"
      ]
     },
     "execution_count": 38,
     "metadata": {},
     "output_type": "execute_result"
    }
   ],
   "source": [
    "df2"
   ]
  },
  {
   "cell_type": "markdown",
   "id": "f7a59a4a-85ee-4389-88e7-ba9a02281af8",
   "metadata": {},
   "source": [
    "### 練習4-4"
   ]
  },
  {
   "cell_type": "code",
   "execution_count": 39,
   "id": "d9954214-585b-41bc-a620-6ab183fd15bb",
   "metadata": {},
   "outputs": [
    {
     "name": "stdout",
     "output_type": "stream",
     "text": [
      "Index([ 0,  1,  2,  3,  4,  5,  6,  7,  8,  9, 10, 11, 12, 13, 14, 15, 16, 17,\n",
      "       18, 19, 20, 21, 22, 23, 24, 25, 26, 27, 28, 29, 30, 31, 32, 33, 34, 35,\n",
      "       36, 37, 38, 39, 40, 41, 42, 43, 44, 45, 46, 47, 48, 49, 50, 51, 52, 53,\n",
      "       54, 55, 56, 57, 58, 59, 60, 61, 62, 63, 64, 65, 66, 67, 68, 69, 70, 71,\n",
      "       72, 73, 74, 75, 76, 77, 78, 79, 80, 81, 82, 83, 84, 85, 86, 87, 88, 89,\n",
      "       90, 91, 92, 93, 94, 95, 96, 97, 98, 99],\n",
      "      dtype='int64')\n"
     ]
    }
   ],
   "source": [
    "print(df2.index)"
   ]
  },
  {
   "cell_type": "markdown",
   "id": "12c808c0-3d4f-4ad3-ab26-789683323cb5",
   "metadata": {},
   "source": [
    "### 練習4-5"
   ]
  },
  {
   "cell_type": "code",
   "execution_count": 40,
   "id": "6d1f53bd-5a3d-48c5-970f-fde9c02dc121",
   "metadata": {},
   "outputs": [
    {
     "name": "stdout",
     "output_type": "stream",
     "text": [
      "Index(['x0', 'x1', 'x2', 'x3', 'target'], dtype='object')\n"
     ]
    }
   ],
   "source": [
    "print(df2.columns)"
   ]
  },
  {
   "cell_type": "markdown",
   "id": "2cf76f9f-54b7-4efc-b182-c66165b712df",
   "metadata": {},
   "source": [
    "### 練習4-6"
   ]
  },
  {
   "cell_type": "code",
   "execution_count": 41,
   "id": "bd1fd8f4-8eb2-4f5d-abed-48dfc5a07417",
   "metadata": {},
   "outputs": [],
   "source": [
    "col = ['x0','x2']"
   ]
  },
  {
   "cell_type": "code",
   "execution_count": 44,
   "id": "91d53d12-6e3d-4a99-a371-64a8c04192af",
   "metadata": {},
   "outputs": [
    {
     "data": {
      "text/html": [
       "<div>\n",
       "<style scoped>\n",
       "    .dataframe tbody tr th:only-of-type {\n",
       "        vertical-align: middle;\n",
       "    }\n",
       "\n",
       "    .dataframe tbody tr th {\n",
       "        vertical-align: top;\n",
       "    }\n",
       "\n",
       "    .dataframe thead th {\n",
       "        text-align: right;\n",
       "    }\n",
       "</style>\n",
       "<table border=\"1\" class=\"dataframe\">\n",
       "  <thead>\n",
       "    <tr style=\"text-align: right;\">\n",
       "      <th></th>\n",
       "      <th>x0</th>\n",
       "      <th>x2</th>\n",
       "    </tr>\n",
       "  </thead>\n",
       "  <tbody>\n",
       "    <tr>\n",
       "      <th>0</th>\n",
       "      <td>4.831144</td>\n",
       "      <td>5.082239</td>\n",
       "    </tr>\n",
       "    <tr>\n",
       "      <th>1</th>\n",
       "      <td>1.460716</td>\n",
       "      <td>7.632439</td>\n",
       "    </tr>\n",
       "    <tr>\n",
       "      <th>2</th>\n",
       "      <td>4.011018</td>\n",
       "      <td>5.935904</td>\n",
       "    </tr>\n",
       "    <tr>\n",
       "      <th>3</th>\n",
       "      <td>5.982382</td>\n",
       "      <td>3.890340</td>\n",
       "    </tr>\n",
       "    <tr>\n",
       "      <th>4</th>\n",
       "      <td>5.439188</td>\n",
       "      <td>4.827872</td>\n",
       "    </tr>\n",
       "    <tr>\n",
       "      <th>...</th>\n",
       "      <td>...</td>\n",
       "      <td>...</td>\n",
       "    </tr>\n",
       "    <tr>\n",
       "      <th>95</th>\n",
       "      <td>4.343917</td>\n",
       "      <td>5.925124</td>\n",
       "    </tr>\n",
       "    <tr>\n",
       "      <th>96</th>\n",
       "      <td>5.612101</td>\n",
       "      <td>4.338867</td>\n",
       "    </tr>\n",
       "    <tr>\n",
       "      <th>97</th>\n",
       "      <td>3.375022</td>\n",
       "      <td>6.534891</td>\n",
       "    </tr>\n",
       "    <tr>\n",
       "      <th>98</th>\n",
       "      <td>4.069721</td>\n",
       "      <td>5.884516</td>\n",
       "    </tr>\n",
       "    <tr>\n",
       "      <th>99</th>\n",
       "      <td>4.079704</td>\n",
       "      <td>5.657731</td>\n",
       "    </tr>\n",
       "  </tbody>\n",
       "</table>\n",
       "<p>100 rows × 2 columns</p>\n",
       "</div>"
      ],
      "text/plain": [
       "          x0        x2\n",
       "0   4.831144  5.082239\n",
       "1   1.460716  7.632439\n",
       "2   4.011018  5.935904\n",
       "3   5.982382  3.890340\n",
       "4   5.439188  4.827872\n",
       "..       ...       ...\n",
       "95  4.343917  5.925124\n",
       "96  5.612101  4.338867\n",
       "97  3.375022  6.534891\n",
       "98  4.069721  5.884516\n",
       "99  4.079704  5.657731\n",
       "\n",
       "[100 rows x 2 columns]"
      ]
     },
     "execution_count": 44,
     "metadata": {},
     "output_type": "execute_result"
    }
   ],
   "source": [
    "df2[col]"
   ]
  },
  {
   "cell_type": "code",
   "execution_count": null,
   "id": "8740113e-8bb2-4e8f-8689-5affbc844a6e",
   "metadata": {},
   "outputs": [],
   "source": []
  }
 ],
 "metadata": {
  "kernelspec": {
   "display_name": "Python 3 (ipykernel)",
   "language": "python",
   "name": "python3"
  },
  "language_info": {
   "codemirror_mode": {
    "name": "ipython",
    "version": 3
   },
   "file_extension": ".py",
   "mimetype": "text/x-python",
   "name": "python",
   "nbconvert_exporter": "python",
   "pygments_lexer": "ipython3",
   "version": "3.12.7"
  }
 },
 "nbformat": 4,
 "nbformat_minor": 5
}
