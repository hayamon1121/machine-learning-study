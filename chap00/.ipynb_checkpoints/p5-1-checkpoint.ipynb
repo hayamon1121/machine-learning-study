{
 "cells": [
  {
   "cell_type": "code",
   "execution_count": 22,
   "id": "817703c1-a6e9-4526-ba7a-9007455abcab",
   "metadata": {},
   "outputs": [],
   "source": [
    "def uruu(year):\n",
    "    result = None\n",
    "    if year % 400 == 0:\n",
    "        result = True\n",
    "    elif year % 100 == 0:\n",
    "        result = False\n",
    "    elif year % 4 == 0:\n",
    "        result = True\n",
    "    else:\n",
    "        result = False\n",
    "        \n",
    "    return result"
   ]
  },
  {
   "cell_type": "code",
   "execution_count": 25,
   "id": "bf950d17-3fb5-49f0-b5ef-753d9757f820",
   "metadata": {},
   "outputs": [
    {
     "name": "stdin",
     "output_type": "stream",
     "text": [
      "何年？ 2011\n"
     ]
    }
   ],
   "source": [
    "year = int(input(\"何年？\"))"
   ]
  },
  {
   "cell_type": "code",
   "execution_count": 26,
   "id": "bee8acfd-482d-49c4-8f8d-4688e6585ffc",
   "metadata": {},
   "outputs": [
    {
     "name": "stdout",
     "output_type": "stream",
     "text": [
      "うるう年ではないです。\n"
     ]
    }
   ],
   "source": [
    "if uruu(year) == True:\n",
    "    print(\"うるう年です。\")\n",
    "else:\n",
    "    print(\"うるう年ではないです。\")"
   ]
  },
  {
   "cell_type": "code",
   "execution_count": null,
   "id": "d8dad72c-495f-4882-a144-4fcd2e08b607",
   "metadata": {},
   "outputs": [],
   "source": []
  }
 ],
 "metadata": {
  "kernelspec": {
   "display_name": "Python 3 (ipykernel)",
   "language": "python",
   "name": "python3"
  },
  "language_info": {
   "codemirror_mode": {
    "name": "ipython",
    "version": 3
   },
   "file_extension": ".py",
   "mimetype": "text/x-python",
   "name": "python",
   "nbconvert_exporter": "python",
   "pygments_lexer": "ipython3",
   "version": "3.12.7"
  }
 },
 "nbformat": 4,
 "nbformat_minor": 5
}
