{
 "cells": [
  {
   "cell_type": "code",
   "execution_count": 2,
   "id": "2d3ac5a9-4e9b-4869-850b-2647c7e6768b",
   "metadata": {},
   "outputs": [
    {
     "name": "stdin",
     "output_type": "stream",
     "text": [
      "体重を入力してください 50\n"
     ]
    }
   ],
   "source": [
    "weight = int(input(\"体重を入力してください\"))"
   ]
  },
  {
   "cell_type": "code",
   "execution_count": 20,
   "id": "04332884-ca01-40ac-b5b7-7b8a0f2838a9",
   "metadata": {},
   "outputs": [
    {
     "name": "stdin",
     "output_type": "stream",
     "text": [
      "身長を入力してください 170\n"
     ]
    }
   ],
   "source": [
    "cmheight = int(input(\"身長を入力してください\"))"
   ]
  },
  {
   "cell_type": "code",
   "execution_count": 21,
   "id": "21830f86-4a94-4dcb-bead-448ceac1d723",
   "metadata": {},
   "outputs": [],
   "source": [
    "Mheight = cmheight / 100"
   ]
  },
  {
   "cell_type": "code",
   "execution_count": 22,
   "id": "b2bbf350-b8ba-4cad-9a92-094daec52366",
   "metadata": {},
   "outputs": [],
   "source": [
    "BMI = weight / (Mheight ** 2)"
   ]
  },
  {
   "cell_type": "code",
   "execution_count": 23,
   "id": "d98ff54b-c5ee-467c-9fea-f04477c242b3",
   "metadata": {},
   "outputs": [
    {
     "name": "stdout",
     "output_type": "stream",
     "text": [
      "BMIは17.301038062283737です\n"
     ]
    }
   ],
   "source": [
    "print(f\"BMIは{BMI}です\")"
   ]
  },
  {
   "cell_type": "code",
   "execution_count": null,
   "id": "05f746aa-1926-4911-a4ca-b02ea69cbbf2",
   "metadata": {},
   "outputs": [],
   "source": []
  },
  {
   "cell_type": "code",
   "execution_count": null,
   "id": "c6e56c78-5019-4678-b48b-616e3867a9e5",
   "metadata": {},
   "outputs": [],
   "source": []
  }
 ],
 "metadata": {
  "kernelspec": {
   "display_name": "Python 3 (ipykernel)",
   "language": "python",
   "name": "python3"
  },
  "language_info": {
   "codemirror_mode": {
    "name": "ipython",
    "version": 3
   },
   "file_extension": ".py",
   "mimetype": "text/x-python",
   "name": "python",
   "nbconvert_exporter": "python",
   "pygments_lexer": "ipython3",
   "version": "3.12.7"
  }
 },
 "nbformat": 4,
 "nbformat_minor": 5
}
